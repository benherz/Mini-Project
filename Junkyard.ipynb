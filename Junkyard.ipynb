{
 "cells": [
  {
   "cell_type": "markdown",
   "metadata": {},
   "source": [
    "### ML_Mini_Project Junkyard"
   ]
  },
  {
   "cell_type": "markdown",
   "metadata": {},
   "source": [
    "- Loop over CV-Search and visualization of parameters"
   ]
  },
  {
   "cell_type": "code",
   "execution_count": null,
   "metadata": {},
   "outputs": [],
   "source": [
    "# Loop to find best parameters\n",
    "max_depth_cv = []\n",
    "min_samples_split_cv = []\n",
    "min_samples_leaf_cv = []\n",
    "n_estimators_cv = []\n",
    "progress_bar = tqdm(20)\n",
    "for _ in range(20):\n",
    "    forest_cv.fit(x_train, y_train)\n",
    "    max_depth_cv.append(forest_cv.best_params_['max_depth'])\n",
    "    min_samples_split_cv.append(forest_cv.best_params_['min_samples_split'])\n",
    "    min_samples_leaf_cv.append(forest_cv.best_params_['min_samples_leaf'])\n",
    "    n_estimators_cv.append(forest_cv.best_params_['n_estimators'])\n",
    "    progress_bar.update(1)\n",
    "\n",
    "\n",
    "\n",
    "# Visualize results\n",
    "fig, axs = plt.subplots(2, 2, figsize=(5, 4))\n",
    "\n",
    "axs[0, 0].hist(n_estimators_cv, bins=5, edgecolor='black')\n",
    "axs[0, 0].set_title('n_estimators')\n",
    "\n",
    "axs[0, 1].hist(min_samples_split_cv, bins=5, edgecolor='black')\n",
    "axs[0, 1].set_title('min_samples_split')\n",
    "\n",
    "axs[1, 0].hist(min_samples_leaf_cv, bins=5, edgecolor='black')\n",
    "axs[1, 0].set_title('min_samples_leaf')\n",
    "\n",
    "axs[1, 1].hist(max_depth_cv, bins=5, edgecolor='black')\n",
    "axs[1, 1].set_title('max_depth')\n",
    "\n",
    "plt.show()\n"
   ]
  }
 ],
 "metadata": {
  "language_info": {
   "name": "python"
  }
 },
 "nbformat": 4,
 "nbformat_minor": 2
}
